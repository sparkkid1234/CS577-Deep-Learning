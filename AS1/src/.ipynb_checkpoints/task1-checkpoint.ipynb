{
 "cells": [
  {
   "cell_type": "markdown",
   "metadata": {},
   "source": [
    "This applies to the other task notebooks also. This notebook will only contain code to load the model and evaluate it on the test set. \n",
    "- If you want to retrieve the data using my own code, please uncomment the imports below and uncomment cell #2 which is the cell to get the data, else a data.txt file is supplied.\n",
    "- If you want to see the notebooks that I use to do the assignment (clean data, train, plot etc), please notify me, I'll provide them immediately!\n",
    "- taskx_net_weights.h5 files consist of model weights are also available"
   ]
  },
  {
   "cell_type": "code",
   "execution_count": 4,
   "metadata": {},
   "outputs": [],
   "source": [
    "from keras import models\n",
    "# import os\n",
    "# import sys\n",
    "# module_path = os.path.abspath(os.path.join('./impl/'))\n",
    "# if module_path not in sys.path:\n",
    "#     sys.path.append(module_path)\n",
    "# from impl.DenseNeuralNet import *\n",
    "# from keras.datasets import cifar10"
   ]
  },
  {
   "cell_type": "code",
   "execution_count": 5,
   "metadata": {},
   "outputs": [],
   "source": [
    "#X_train, y_train, X_val, y_val, X_test, y_test = prepare_data(cifar10.load_data)"
   ]
  },
  {
   "cell_type": "code",
   "execution_count": 9,
   "metadata": {},
   "outputs": [
    {
     "name": "stdout",
     "output_type": "stream",
     "text": [
      "2000/2000 [==============================] - 0s 131us/step\n",
      "Accuracy on test set: 0.867\n"
     ]
    }
   ],
   "source": [
    "dnn = models.load_model('task1_net.h5')\n",
    "print(\"Accuracy on test set: {}\".format(dnn.evaluate(X_test,y_test)[1]))"
   ]
  }
 ],
 "metadata": {
  "kernelspec": {
   "display_name": "Python 3",
   "language": "python",
   "name": "python3"
  },
  "language_info": {
   "codemirror_mode": {
    "name": "ipython",
    "version": 3
   },
   "file_extension": ".py",
   "mimetype": "text/x-python",
   "name": "python",
   "nbconvert_exporter": "python",
   "pygments_lexer": "ipython3",
   "version": "3.6.2"
  },
  "toc": {
   "base_numbering": 1,
   "nav_menu": {},
   "number_sections": true,
   "sideBar": true,
   "skip_h1_title": false,
   "title_cell": "Table of Contents",
   "title_sidebar": "Contents",
   "toc_cell": false,
   "toc_position": {},
   "toc_section_display": true,
   "toc_window_display": false
  }
 },
 "nbformat": 4,
 "nbformat_minor": 2
}
