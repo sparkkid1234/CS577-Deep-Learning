{
 "cells": [
  {
   "cell_type": "code",
   "execution_count": 229,
   "metadata": {},
   "outputs": [],
   "source": [
    "import keras\n",
    "import keras.backend as K\n",
    "import numpy as np\n",
    "from keras.utils import to_categorical\n",
    "from keras.datasets import cifar10\n",
    "from keras import layers\n",
    "from keras import models, optimizers\n",
    "from keras.metrics import mse, binary_crossentropy\n",
    "import os\n",
    "import sys\n",
    "module_path = os.path.abspath(os.path.join('./impl/'))\n",
    "if module_path not in sys.path:\n",
    "    sys.path.append(module_path)\n",
    "from impl.DenseNeuralNet import *"
   ]
  },
  {
   "cell_type": "code",
   "execution_count": 223,
   "metadata": {},
   "outputs": [],
   "source": [
    "#train_data, test_data = cifar10,\n",
    "X_train, y_train, X_val, y_val, X_test, y_test = prepare_data(cifar10.load_data)"
   ]
  },
  {
   "cell_type": "code",
   "execution_count": 224,
   "metadata": {
    "scrolled": true
   },
   "outputs": [
    {
     "name": "stdout",
     "output_type": "stream",
     "text": [
      "Train on 8000 samples, validate on 2000 samples\n",
      "Epoch 1/100\n",
      "8000/8000 [==============================] - 1s 122us/step - loss: 9.9886 - acc: 0.0027 - val_loss: 6.9297 - val_acc: 0.0115\n",
      "Epoch 2/100\n",
      "8000/8000 [==============================] - 0s 32us/step - loss: 4.8064 - acc: 0.0961 - val_loss: 2.5930 - val_acc: 0.2595\n",
      "Epoch 3/100\n",
      "8000/8000 [==============================] - 0s 33us/step - loss: 1.7526 - acc: 0.4000 - val_loss: 1.1303 - val_acc: 0.5540\n",
      "Epoch 4/100\n",
      "8000/8000 [==============================] - 0s 26us/step - loss: 1.0369 - acc: 0.5905 - val_loss: 0.9439 - val_acc: 0.6275\n",
      "Epoch 5/100\n",
      "8000/8000 [==============================] - 0s 32us/step - loss: 0.8900 - acc: 0.6370 - val_loss: 0.8485 - val_acc: 0.6460\n",
      "Epoch 6/100\n",
      "8000/8000 [==============================] - 0s 31us/step - loss: 0.8242 - acc: 0.6591 - val_loss: 0.8073 - val_acc: 0.6660\n",
      "Epoch 7/100\n",
      "8000/8000 [==============================] - 0s 24us/step - loss: 0.7756 - acc: 0.6766 - val_loss: 0.7688 - val_acc: 0.6800\n",
      "Epoch 8/100\n",
      "8000/8000 [==============================] - 0s 24us/step - loss: 0.7365 - acc: 0.6927 - val_loss: 0.7400 - val_acc: 0.6870\n",
      "Epoch 9/100\n",
      "8000/8000 [==============================] - 0s 33us/step - loss: 0.7034 - acc: 0.7050 - val_loss: 0.7143 - val_acc: 0.6995\n",
      "Epoch 10/100\n",
      "8000/8000 [==============================] - 0s 31us/step - loss: 0.6751 - acc: 0.7164 - val_loss: 0.6907 - val_acc: 0.7070\n",
      "Epoch 11/100\n",
      "8000/8000 [==============================] - 0s 29us/step - loss: 0.6510 - acc: 0.7279 - val_loss: 0.6732 - val_acc: 0.7150\n",
      "Epoch 12/100\n",
      "8000/8000 [==============================] - 0s 30us/step - loss: 0.6286 - acc: 0.7371 - val_loss: 0.6550 - val_acc: 0.7190\n",
      "Epoch 13/100\n",
      "8000/8000 [==============================] - 0s 31us/step - loss: 0.6092 - acc: 0.7434 - val_loss: 0.6402 - val_acc: 0.7265\n",
      "Epoch 14/100\n",
      "8000/8000 [==============================] - 0s 28us/step - loss: 0.5912 - acc: 0.7511 - val_loss: 0.6251 - val_acc: 0.7285\n",
      "Epoch 15/100\n",
      "8000/8000 [==============================] - 0s 28us/step - loss: 0.5756 - acc: 0.7556 - val_loss: 0.6155 - val_acc: 0.7345\n",
      "Epoch 16/100\n",
      "8000/8000 [==============================] - 0s 27us/step - loss: 0.5603 - acc: 0.7621 - val_loss: 0.6031 - val_acc: 0.7400\n",
      "Epoch 17/100\n",
      "8000/8000 [==============================] - 0s 25us/step - loss: 0.5461 - acc: 0.7689 - val_loss: 0.5911 - val_acc: 0.7485\n",
      "Epoch 18/100\n",
      "8000/8000 [==============================] - 0s 27us/step - loss: 0.5332 - acc: 0.7724 - val_loss: 0.5822 - val_acc: 0.7500\n",
      "Epoch 19/100\n",
      "8000/8000 [==============================] - 0s 30us/step - loss: 0.5212 - acc: 0.7760 - val_loss: 0.5742 - val_acc: 0.7535\n",
      "Epoch 20/100\n",
      "8000/8000 [==============================] - 0s 26us/step - loss: 0.5095 - acc: 0.7794 - val_loss: 0.5649 - val_acc: 0.7585\n",
      "Epoch 21/100\n",
      "8000/8000 [==============================] - 0s 32us/step - loss: 0.4991 - acc: 0.7812 - val_loss: 0.5579 - val_acc: 0.7620\n",
      "Epoch 22/100\n",
      "8000/8000 [==============================] - 0s 29us/step - loss: 0.4890 - acc: 0.7849 - val_loss: 0.5525 - val_acc: 0.7645\n",
      "Epoch 23/100\n",
      "8000/8000 [==============================] - 0s 33us/step - loss: 0.4796 - acc: 0.7894 - val_loss: 0.5463 - val_acc: 0.7680\n",
      "Epoch 24/100\n",
      "8000/8000 [==============================] - 0s 33us/step - loss: 0.4707 - acc: 0.7917 - val_loss: 0.5394 - val_acc: 0.7725\n",
      "Epoch 25/100\n",
      "8000/8000 [==============================] - 0s 29us/step - loss: 0.4623 - acc: 0.7968 - val_loss: 0.5348 - val_acc: 0.7745\n",
      "Epoch 26/100\n",
      "8000/8000 [==============================] - 0s 33us/step - loss: 0.4541 - acc: 0.7993 - val_loss: 0.5280 - val_acc: 0.7790\n",
      "Epoch 27/100\n",
      "8000/8000 [==============================] - 0s 31us/step - loss: 0.4462 - acc: 0.8031 - val_loss: 0.5254 - val_acc: 0.7785\n",
      "Epoch 28/100\n",
      "8000/8000 [==============================] - 0s 31us/step - loss: 0.4388 - acc: 0.8049 - val_loss: 0.5191 - val_acc: 0.7845\n",
      "Epoch 29/100\n",
      "8000/8000 [==============================] - 0s 31us/step - loss: 0.4318 - acc: 0.8085 - val_loss: 0.5152 - val_acc: 0.7860\n",
      "Epoch 30/100\n",
      "8000/8000 [==============================] - 0s 35us/step - loss: 0.4257 - acc: 0.8113 - val_loss: 0.5134 - val_acc: 0.7840\n",
      "Epoch 31/100\n",
      "8000/8000 [==============================] - 0s 31us/step - loss: 0.4191 - acc: 0.8135 - val_loss: 0.5064 - val_acc: 0.7895\n",
      "Epoch 32/100\n",
      "8000/8000 [==============================] - 0s 31us/step - loss: 0.4131 - acc: 0.8164 - val_loss: 0.5037 - val_acc: 0.7910\n",
      "Epoch 33/100\n",
      "8000/8000 [==============================] - 0s 32us/step - loss: 0.4071 - acc: 0.8187 - val_loss: 0.4985 - val_acc: 0.7920\n",
      "Epoch 34/100\n",
      "8000/8000 [==============================] - 0s 29us/step - loss: 0.4013 - acc: 0.8206 - val_loss: 0.4961 - val_acc: 0.7885\n",
      "Epoch 35/100\n",
      "8000/8000 [==============================] - 0s 30us/step - loss: 0.3960 - acc: 0.8233 - val_loss: 0.4930 - val_acc: 0.7920\n",
      "Epoch 36/100\n",
      "8000/8000 [==============================] - 0s 30us/step - loss: 0.3907 - acc: 0.8256 - val_loss: 0.4892 - val_acc: 0.7930\n",
      "Epoch 37/100\n",
      "8000/8000 [==============================] - 0s 29us/step - loss: 0.3858 - acc: 0.8276 - val_loss: 0.4862 - val_acc: 0.7940\n",
      "Epoch 38/100\n",
      "8000/8000 [==============================] - 0s 30us/step - loss: 0.3808 - acc: 0.8315 - val_loss: 0.4858 - val_acc: 0.7940\n",
      "Epoch 39/100\n",
      "8000/8000 [==============================] - 0s 30us/step - loss: 0.3766 - acc: 0.8339 - val_loss: 0.4816 - val_acc: 0.7965\n",
      "Epoch 40/100\n",
      "8000/8000 [==============================] - 0s 26us/step - loss: 0.3718 - acc: 0.8359 - val_loss: 0.4770 - val_acc: 0.7975\n",
      "Epoch 41/100\n",
      "8000/8000 [==============================] - 0s 28us/step - loss: 0.3673 - acc: 0.8382 - val_loss: 0.4779 - val_acc: 0.7975\n",
      "Epoch 42/100\n",
      "8000/8000 [==============================] - 0s 26us/step - loss: 0.3648 - acc: 0.8382 - val_loss: 0.4713 - val_acc: 0.8005\n",
      "Epoch 43/100\n",
      "8000/8000 [==============================] - 0s 27us/step - loss: 0.3591 - acc: 0.8417 - val_loss: 0.4716 - val_acc: 0.8030\n",
      "Epoch 44/100\n",
      "8000/8000 [==============================] - 0s 29us/step - loss: 0.3547 - acc: 0.8440 - val_loss: 0.4688 - val_acc: 0.8030\n",
      "Epoch 45/100\n",
      "8000/8000 [==============================] - 0s 30us/step - loss: 0.3511 - acc: 0.8452 - val_loss: 0.4670 - val_acc: 0.8045\n",
      "Epoch 46/100\n",
      "8000/8000 [==============================] - 0s 30us/step - loss: 0.3472 - acc: 0.8476 - val_loss: 0.4647 - val_acc: 0.8045\n",
      "Epoch 47/100\n",
      "8000/8000 [==============================] - 0s 31us/step - loss: 0.3435 - acc: 0.8499 - val_loss: 0.4617 - val_acc: 0.8080\n",
      "Epoch 48/100\n",
      "8000/8000 [==============================] - 0s 31us/step - loss: 0.3403 - acc: 0.8520 - val_loss: 0.4612 - val_acc: 0.8085\n",
      "Epoch 49/100\n",
      "8000/8000 [==============================] - 0s 28us/step - loss: 0.3365 - acc: 0.8528 - val_loss: 0.4572 - val_acc: 0.8120\n",
      "Epoch 50/100\n",
      "8000/8000 [==============================] - 0s 27us/step - loss: 0.3336 - acc: 0.8554 - val_loss: 0.4574 - val_acc: 0.8120\n",
      "Epoch 51/100\n",
      "8000/8000 [==============================] - 0s 30us/step - loss: 0.3299 - acc: 0.8574 - val_loss: 0.4549 - val_acc: 0.8115\n",
      "Epoch 52/100\n",
      "8000/8000 [==============================] - 0s 27us/step - loss: 0.3267 - acc: 0.8583 - val_loss: 0.4540 - val_acc: 0.8120\n",
      "Epoch 53/100\n",
      "8000/8000 [==============================] - 0s 28us/step - loss: 0.3237 - acc: 0.8610 - val_loss: 0.4525 - val_acc: 0.8125\n",
      "Epoch 54/100\n",
      "8000/8000 [==============================] - 0s 28us/step - loss: 0.3209 - acc: 0.8621 - val_loss: 0.4501 - val_acc: 0.8135\n",
      "Epoch 55/100\n",
      "8000/8000 [==============================] - 0s 26us/step - loss: 0.3174 - acc: 0.8646 - val_loss: 0.4514 - val_acc: 0.8140\n",
      "Epoch 56/100\n",
      "8000/8000 [==============================] - 0s 28us/step - loss: 0.3150 - acc: 0.8647 - val_loss: 0.4483 - val_acc: 0.8150\n",
      "Epoch 57/100\n",
      "8000/8000 [==============================] - 0s 25us/step - loss: 0.3119 - acc: 0.8672 - val_loss: 0.4435 - val_acc: 0.8175\n",
      "Epoch 58/100\n",
      "8000/8000 [==============================] - 0s 28us/step - loss: 0.3094 - acc: 0.8687 - val_loss: 0.4457 - val_acc: 0.8150\n",
      "Epoch 59/100\n",
      "8000/8000 [==============================] - 0s 27us/step - loss: 0.3059 - acc: 0.8714 - val_loss: 0.4419 - val_acc: 0.8175\n",
      "Epoch 60/100\n"
     ]
    },
    {
     "name": "stdout",
     "output_type": "stream",
     "text": [
      "8000/8000 [==============================] - 0s 29us/step - loss: 0.3030 - acc: 0.8729 - val_loss: 0.4419 - val_acc: 0.8140\n",
      "Epoch 61/100\n",
      "8000/8000 [==============================] - 0s 30us/step - loss: 0.3007 - acc: 0.8738 - val_loss: 0.4383 - val_acc: 0.8180\n",
      "Epoch 62/100\n",
      "8000/8000 [==============================] - 0s 26us/step - loss: 0.2979 - acc: 0.8756 - val_loss: 0.4415 - val_acc: 0.8125\n",
      "Epoch 63/100\n",
      "8000/8000 [==============================] - 0s 28us/step - loss: 0.2951 - acc: 0.8776 - val_loss: 0.4364 - val_acc: 0.8195\n",
      "Epoch 64/100\n",
      "8000/8000 [==============================] - 0s 34us/step - loss: 0.2927 - acc: 0.8783 - val_loss: 0.4383 - val_acc: 0.8120\n",
      "Epoch 65/100\n",
      "8000/8000 [==============================] - 0s 30us/step - loss: 0.2904 - acc: 0.8800 - val_loss: 0.4335 - val_acc: 0.8225\n",
      "Epoch 66/100\n",
      "8000/8000 [==============================] - 0s 27us/step - loss: 0.2879 - acc: 0.8818 - val_loss: 0.4342 - val_acc: 0.8155\n",
      "Epoch 67/100\n",
      "8000/8000 [==============================] - 0s 32us/step - loss: 0.2862 - acc: 0.8824 - val_loss: 0.4326 - val_acc: 0.8185\n",
      "Epoch 68/100\n",
      "8000/8000 [==============================] - 0s 31us/step - loss: 0.2831 - acc: 0.8846 - val_loss: 0.4313 - val_acc: 0.8190\n",
      "Epoch 69/100\n",
      "8000/8000 [==============================] - 0s 31us/step - loss: 0.2806 - acc: 0.8856 - val_loss: 0.4335 - val_acc: 0.8155\n",
      "Epoch 70/100\n",
      "8000/8000 [==============================] - 0s 28us/step - loss: 0.2790 - acc: 0.8846 - val_loss: 0.4292 - val_acc: 0.8215\n",
      "Epoch 71/100\n",
      "8000/8000 [==============================] - 0s 28us/step - loss: 0.2762 - acc: 0.8880 - val_loss: 0.4286 - val_acc: 0.8205\n",
      "Epoch 72/100\n",
      "8000/8000 [==============================] - 0s 26us/step - loss: 0.2741 - acc: 0.8889 - val_loss: 0.4282 - val_acc: 0.8200\n",
      "Epoch 73/100\n",
      "8000/8000 [==============================] - 0s 28us/step - loss: 0.2716 - acc: 0.8901 - val_loss: 0.4273 - val_acc: 0.8200\n",
      "Epoch 74/100\n",
      "8000/8000 [==============================] - 0s 29us/step - loss: 0.2696 - acc: 0.8913 - val_loss: 0.4274 - val_acc: 0.8195\n",
      "Epoch 75/100\n",
      "8000/8000 [==============================] - 0s 31us/step - loss: 0.2673 - acc: 0.8915 - val_loss: 0.4241 - val_acc: 0.8225\n",
      "Epoch 76/100\n",
      "8000/8000 [==============================] - 0s 29us/step - loss: 0.2653 - acc: 0.8919 - val_loss: 0.4254 - val_acc: 0.8200\n",
      "Epoch 77/100\n",
      "8000/8000 [==============================] - 0s 27us/step - loss: 0.2632 - acc: 0.8934 - val_loss: 0.4254 - val_acc: 0.8210\n",
      "Epoch 78/100\n",
      "8000/8000 [==============================] - 0s 30us/step - loss: 0.2616 - acc: 0.8936 - val_loss: 0.4261 - val_acc: 0.8210\n",
      "Epoch 79/100\n",
      "8000/8000 [==============================] - 0s 28us/step - loss: 0.2597 - acc: 0.8942 - val_loss: 0.4208 - val_acc: 0.8235\n",
      "Epoch 80/100\n",
      "8000/8000 [==============================] - 0s 30us/step - loss: 0.2574 - acc: 0.8957 - val_loss: 0.4220 - val_acc: 0.8230\n",
      "Epoch 81/100\n",
      "8000/8000 [==============================] - 0s 29us/step - loss: 0.2553 - acc: 0.8974 - val_loss: 0.4200 - val_acc: 0.8240\n",
      "Epoch 82/100\n",
      "8000/8000 [==============================] - 0s 30us/step - loss: 0.2534 - acc: 0.8981 - val_loss: 0.4205 - val_acc: 0.8235\n",
      "Epoch 83/100\n",
      "8000/8000 [==============================] - 0s 29us/step - loss: 0.2516 - acc: 0.8991 - val_loss: 0.4190 - val_acc: 0.8245\n",
      "Epoch 84/100\n",
      "8000/8000 [==============================] - 0s 28us/step - loss: 0.2497 - acc: 0.8998 - val_loss: 0.4175 - val_acc: 0.8255\n",
      "Epoch 85/100\n",
      "8000/8000 [==============================] - 0s 29us/step - loss: 0.2482 - acc: 0.8990 - val_loss: 0.4149 - val_acc: 0.8240\n",
      "Epoch 86/100\n",
      "8000/8000 [==============================] - 0s 28us/step - loss: 0.2472 - acc: 0.9014 - val_loss: 0.4182 - val_acc: 0.8230\n",
      "Epoch 87/100\n",
      "8000/8000 [==============================] - 0s 32us/step - loss: 0.2444 - acc: 0.9026 - val_loss: 0.4177 - val_acc: 0.8250\n",
      "Epoch 88/100\n",
      "8000/8000 [==============================] - 0s 31us/step - loss: 0.2426 - acc: 0.9031 - val_loss: 0.4144 - val_acc: 0.8245\n",
      "Epoch 89/100\n",
      "8000/8000 [==============================] - 0s 29us/step - loss: 0.2409 - acc: 0.9040 - val_loss: 0.4128 - val_acc: 0.8250\n",
      "Epoch 90/100\n",
      "8000/8000 [==============================] - 0s 31us/step - loss: 0.2389 - acc: 0.9061 - val_loss: 0.4138 - val_acc: 0.8260\n",
      "Epoch 91/100\n",
      "8000/8000 [==============================] - 0s 27us/step - loss: 0.2372 - acc: 0.9063 - val_loss: 0.4155 - val_acc: 0.8260\n",
      "Epoch 92/100\n",
      "8000/8000 [==============================] - 0s 27us/step - loss: 0.2354 - acc: 0.9070 - val_loss: 0.4094 - val_acc: 0.8265\n",
      "Epoch 93/100\n",
      "8000/8000 [==============================] - 0s 32us/step - loss: 0.2342 - acc: 0.9072 - val_loss: 0.4187 - val_acc: 0.8210\n",
      "Epoch 94/100\n",
      "8000/8000 [==============================] - 0s 32us/step - loss: 0.2327 - acc: 0.9081 - val_loss: 0.4098 - val_acc: 0.8245\n",
      "Epoch 95/100\n",
      "8000/8000 [==============================] - 0s 33us/step - loss: 0.2305 - acc: 0.9106 - val_loss: 0.4097 - val_acc: 0.8250\n",
      "Epoch 96/100\n",
      "8000/8000 [==============================] - 0s 34us/step - loss: 0.2291 - acc: 0.9109 - val_loss: 0.4122 - val_acc: 0.8245\n",
      "Epoch 97/100\n",
      "8000/8000 [==============================] - 0s 34us/step - loss: 0.2270 - acc: 0.9114 - val_loss: 0.4076 - val_acc: 0.8260\n",
      "Epoch 98/100\n",
      "8000/8000 [==============================] - 0s 32us/step - loss: 0.2255 - acc: 0.9118 - val_loss: 0.4096 - val_acc: 0.8255\n",
      "Epoch 99/100\n",
      "8000/8000 [==============================] - 0s 32us/step - loss: 0.2237 - acc: 0.9124 - val_loss: 0.4073 - val_acc: 0.8265\n",
      "Epoch 100/100\n",
      "8000/8000 [==============================] - 0s 31us/step - loss: 0.2223 - acc: 0.9130 - val_loss: 0.4068 - val_acc: 0.8260\n"
     ]
    }
   ],
   "source": [
    "hyperparams = dict(learning_rate=0.000001)\n",
    "dnn = DNN(X_train.shape[1],y_train.shape[1], 10, 512)\n",
    "dnn.fit(X_train, y_train,hyperparams,epochs=100,batch_size=512,validation_data=(X_val,y_val))\n",
    "#dnn.model.save('task1_net.h5')"
   ]
  },
  {
   "cell_type": "code",
   "execution_count": 225,
   "metadata": {},
   "outputs": [],
   "source": [
    "hist = dnn.history.history"
   ]
  },
  {
   "cell_type": "code",
   "execution_count": 230,
   "metadata": {},
   "outputs": [
    {
     "data": {
      "image/png": "[encoded data removed]",
      "text/plain": [
       "<matplotlib.figure.Figure at 0x7f293a78d5f8>"
      ]
     },
     "metadata": {},
     "output_type": "display_data"
    }
   ],
   "source": [
    "import matplotlib.pyplot as plt\n",
    "%matplotlib inline\n",
    "\n",
    "#plt.plot()\n",
    "plt.plot(hist['acc'],'b',label=\"training accuracy\")\n",
    "plt.plot(hist['val_acc'],'r',label = \"validation accuracy\")\n",
    "plt.xlabel(\"Epochs\")\n",
    "plt.ylabel(\"Accuracy\")\n",
    "plt.title('Accuracy vs Epochs - CIFAR10 subset of 3 classes')\n",
    "plt.legend()\n",
    "plt.savefig('Task1_acc')"
   ]
  },
  {
   "cell_type": "code",
   "execution_count": 231,
   "metadata": {
    "scrolled": true
   },
   "outputs": [
    {
     "data": {
      "image/png": "[encoded data removed]",
      "text/plain": [
       "<matplotlib.figure.Figure at 0x7f28a6e48198>"
      ]
     },
     "metadata": {},
     "output_type": "display_data"
    }
   ],
   "source": [
    "#plt.plot()\n",
    "plt.plot(hist['loss'],'b',label=\"training loss\")\n",
    "plt.plot(hist['val_loss'],'r',label = \"validation loss\")\n",
    "plt.xlabel(\"Epochs\")\n",
    "plt.ylabel(\"Loss\")\n",
    "plt.title('Loss vs Epochs - CIFAR10 subset of 3 classes')\n",
    "plt.legend()\n",
    "plt.savefig('Task1_loss')"
   ]
  },
  {
   "cell_type": "code",
   "execution_count": 228,
   "metadata": {},
   "outputs": [
    {
     "name": "stdout",
     "output_type": "stream",
     "text": [
      "2000/2000 [==============================] - 0s 68us/step\n"
     ]
    },
    {
     "data": {
      "text/plain": [
       "[0.35034641265869143, 0.85950000000000004]"
      ]
     },
     "execution_count": 228,
     "metadata": {},
     "output_type": "execute_result"
    }
   ],
   "source": [
    "dnn.model.evaluate(X_test, y_test)"
   ]
  },
  {
   "cell_type": "markdown",
   "metadata": {},
   "source": [
    "### Retrain final model"
   ]
  },
  {
   "cell_type": "code",
   "execution_count": null,
   "metadata": {
    "scrolled": true
   },
   "outputs": [
    {
     "name": "stdout",
     "output_type": "stream",
     "text": [
      "Train on 8000 samples, validate on 2000 samples\n",
      "Epoch 1/100\n",
      "8000/8000 [==============================] - 1s 118us/step - loss: 1.1305 - acc: 0.5071 - val_loss: 0.9360 - val_acc: 0.5110\n",
      "Epoch 2/100\n",
      "8000/8000 [==============================] - 0s 33us/step - loss: 0.8412 - acc: 0.5776 - val_loss: 0.7560 - val_acc: 0.6180\n",
      "Epoch 3/100\n",
      "8000/8000 [==============================] - 0s 30us/step - loss: 0.6991 - acc: 0.6545 - val_loss: 0.6532 - val_acc: 0.6805\n",
      "Epoch 4/100\n",
      "8000/8000 [==============================] - 0s 29us/step - loss: 0.6212 - acc: 0.6944 - val_loss: 0.5967 - val_acc: 0.7245\n",
      "Epoch 5/100\n",
      "8000/8000 [==============================] - 0s 32us/step - loss: 0.5705 - acc: 0.7225 - val_loss: 0.5584 - val_acc: 0.7470\n",
      "Epoch 6/100\n",
      "8000/8000 [==============================] - 0s 32us/step - loss: 0.5358 - acc: 0.7451 - val_loss: 0.5332 - val_acc: 0.7590\n",
      "Epoch 7/100\n",
      "8000/8000 [==============================] - 0s 34us/step - loss: 0.5098 - acc: 0.7583 - val_loss: 0.5154 - val_acc: 0.7635\n",
      "Epoch 8/100\n",
      "8000/8000 [==============================] - 0s 28us/step - loss: 0.4900 - acc: 0.7720 - val_loss: 0.5007 - val_acc: 0.7675\n",
      "Epoch 9/100\n",
      "8000/8000 [==============================] - 0s 28us/step - loss: 0.4729 - acc: 0.7791 - val_loss: 0.4879 - val_acc: 0.7800\n",
      "Epoch 10/100\n",
      "8000/8000 [==============================] - 0s 31us/step - loss: 0.4584 - acc: 0.7864 - val_loss: 0.4791 - val_acc: 0.7810\n",
      "Epoch 11/100\n",
      "8000/8000 [==============================] - 0s 30us/step - loss: 0.4457 - acc: 0.7924 - val_loss: 0.4715 - val_acc: 0.7830\n",
      "Epoch 12/100\n",
      "8000/8000 [==============================] - 0s 27us/step - loss: 0.4340 - acc: 0.7979 - val_loss: 0.4628 - val_acc: 0.7865\n",
      "Epoch 13/100\n",
      "8000/8000 [==============================] - 0s 31us/step - loss: 0.4242 - acc: 0.8045 - val_loss: 0.4573 - val_acc: 0.7900\n",
      "Epoch 14/100\n",
      "8000/8000 [==============================] - 0s 31us/step - loss: 0.4149 - acc: 0.8088 - val_loss: 0.4512 - val_acc: 0.7935\n",
      "Epoch 15/100\n",
      "8000/8000 [==============================] - 0s 30us/step - loss: 0.4061 - acc: 0.8135 - val_loss: 0.4464 - val_acc: 0.7950\n",
      "Epoch 16/100\n",
      "8000/8000 [==============================] - 0s 30us/step - loss: 0.3984 - acc: 0.8177 - val_loss: 0.4416 - val_acc: 0.7980\n",
      "Epoch 17/100\n",
      "8000/8000 [==============================] - 0s 32us/step - loss: 0.3914 - acc: 0.8201 - val_loss: 0.4373 - val_acc: 0.7995\n",
      "Epoch 18/100\n",
      "8000/8000 [==============================] - 0s 29us/step - loss: 0.3847 - acc: 0.8250 - val_loss: 0.4338 - val_acc: 0.8035\n",
      "Epoch 19/100\n",
      "8000/8000 [==============================] - 0s 28us/step - loss: 0.3787 - acc: 0.8281 - val_loss: 0.4309 - val_acc: 0.8045\n",
      "Epoch 20/100\n",
      "8000/8000 [==============================] - 0s 32us/step - loss: 0.3743 - acc: 0.8294 - val_loss: 0.4265 - val_acc: 0.8075\n",
      "Epoch 21/100\n",
      "8000/8000 [==============================] - 0s 30us/step - loss: 0.3676 - acc: 0.8339 - val_loss: 0.4236 - val_acc: 0.8090\n",
      "Epoch 22/100\n",
      "8000/8000 [==============================] - 0s 27us/step - loss: 0.3611 - acc: 0.8369 - val_loss: 0.4197 - val_acc: 0.8080\n",
      "Epoch 23/100\n",
      "8000/8000 [==============================] - 0s 28us/step - loss: 0.3562 - acc: 0.8412 - val_loss: 0.4175 - val_acc: 0.8110\n",
      "Epoch 24/100\n",
      "8000/8000 [==============================] - 0s 29us/step - loss: 0.3515 - acc: 0.8421 - val_loss: 0.4146 - val_acc: 0.8120\n",
      "Epoch 25/100\n",
      "8000/8000 [==============================] - 0s 32us/step - loss: 0.3460 - acc: 0.8462 - val_loss: 0.4141 - val_acc: 0.8110\n",
      "Epoch 26/100\n",
      "8000/8000 [==============================] - 0s 29us/step - loss: 0.3416 - acc: 0.8465 - val_loss: 0.4094 - val_acc: 0.8135\n",
      "Epoch 27/100\n",
      "8000/8000 [==============================] - 0s 33us/step - loss: 0.3369 - acc: 0.8505 - val_loss: 0.4073 - val_acc: 0.8150\n",
      "Epoch 28/100\n",
      "8000/8000 [==============================] - 0s 33us/step - loss: 0.3329 - acc: 0.8534 - val_loss: 0.4050 - val_acc: 0.8175\n",
      "Epoch 29/100\n",
      "8000/8000 [==============================] - 0s 30us/step - loss: 0.3293 - acc: 0.8553 - val_loss: 0.4025 - val_acc: 0.8190\n",
      "Epoch 30/100\n",
      "8000/8000 [==============================] - 0s 27us/step - loss: 0.3244 - acc: 0.8566 - val_loss: 0.4011 - val_acc: 0.8195\n",
      "Epoch 31/100\n",
      "8000/8000 [==============================] - 0s 26us/step - loss: 0.3205 - acc: 0.8591 - val_loss: 0.3984 - val_acc: 0.8230\n",
      "Epoch 32/100\n",
      "8000/8000 [==============================] - 0s 31us/step - loss: 0.3166 - acc: 0.8609 - val_loss: 0.3971 - val_acc: 0.8210\n",
      "Epoch 33/100\n",
      "8000/8000 [==============================] - 0s 30us/step - loss: 0.3140 - acc: 0.8625 - val_loss: 0.3945 - val_acc: 0.8225\n",
      "Epoch 34/100\n",
      "8000/8000 [==============================] - 0s 31us/step - loss: 0.3097 - acc: 0.8635 - val_loss: 0.3930 - val_acc: 0.8235\n",
      "Epoch 35/100\n",
      "8000/8000 [==============================] - 0s 31us/step - loss: 0.3064 - acc: 0.8659 - val_loss: 0.3906 - val_acc: 0.8260\n",
      "Epoch 36/100\n",
      "8000/8000 [==============================] - 0s 33us/step - loss: 0.3034 - acc: 0.8681 - val_loss: 0.3900 - val_acc: 0.8265\n",
      "Epoch 37/100\n",
      "8000/8000 [==============================] - 0s 33us/step - loss: 0.3002 - acc: 0.8701 - val_loss: 0.3880 - val_acc: 0.8290\n",
      "Epoch 38/100\n",
      "8000/8000 [==============================] - 0s 28us/step - loss: 0.2968 - acc: 0.8709 - val_loss: 0.3854 - val_acc: 0.8280\n",
      "Epoch 39/100\n",
      "3072/8000 [==========>...................] - ETA: 0s - loss: 0.2966 - acc: 0.8734"
     ]
    }
   ],
   "source": [
    "hyperparams = dict(learning_rate=0.000001)\n",
    "dnn_final = DNN(X_train.shape[1],y_train.shape[1], 10, 512)\n",
    "dnn_final.fit(X_train, y_train,hyperparams,epochs=100,batch_size=512,validation_data=(X_val,y_val))"
   ]
  },
  {
   "cell_type": "code",
   "execution_count": null,
   "metadata": {},
   "outputs": [],
   "source": [
    "dnn_final.model.evaluate(X_test, y_test)"
   ]
  },
  {
   "cell_type": "code",
   "execution_count": null,
   "metadata": {},
   "outputs": [],
   "source": [
    "dnn_final.model.save_weights('task1_net_weights.h5')"
   ]
  },
  {
   "cell_type": "code",
   "execution_count": 95,
   "metadata": {},
   "outputs": [],
   "source": [
    "dnn_final.model.save('task1_net.h5')"
   ]
  },
  {
   "cell_type": "code",
   "execution_count": null,
   "metadata": {},
   "outputs": [],
   "source": []
  }
 ],
 "metadata": {
  "kernelspec": {
   "display_name": "Python 3",
   "language": "python",
   "name": "python3"
  },
  "language_info": {
   "codemirror_mode": {
    "name": "ipython",
    "version": 3
   },
   "file_extension": ".py",
   "mimetype": "text/x-python",
   "name": "python",
   "nbconvert_exporter": "python",
   "pygments_lexer": "ipython3",
   "version": "3.6.2"
  },
  "toc": {
   "base_numbering": 1,
   "nav_menu": {},
   "number_sections": true,
   "sideBar": true,
   "skip_h1_title": false,
   "title_cell": "Table of Contents",
   "title_sidebar": "Contents",
   "toc_cell": false,
   "toc_position": {},
   "toc_section_display": true,
   "toc_window_display": false
  }
 },
 "nbformat": 4,
 "nbformat_minor": 2
}
