{
 "cells": [
  {
   "cell_type": "markdown",
   "metadata": {},
   "source": [
    "- Tuan Tran\n",
    "- A20357888\n",
    "- CS595/CS577 - Spring 2019"
   ]
  },
  {
   "cell_type": "markdown",
   "metadata": {},
   "source": [
    "## A."
   ]
  },
  {
   "cell_type": "code",
   "execution_count": 38,
   "metadata": {
    "collapsed": true
   },
   "outputs": [],
   "source": [
    "import numpy as np\n",
    "import math\n",
    "A = np.array([1,2,3])\n",
    "B = np.array([4,5,6])\n",
    "C = np.array([-1,1,3])"
   ]
  },
  {
   "cell_type": "code",
   "execution_count": 39,
   "metadata": {
    "collapsed": false,
    "scrolled": true
   },
   "outputs": [
    {
     "name": "stdout",
     "output_type": "stream",
     "text": [
      "1. 2A-B = [-2 -1  0]\n",
      "2. ||A|| = 3.7416573867739413\n",
      "Angle between A and positive x-axis: 74.498640433063 degree\n",
      "3. Unit vector in direction of A: [0.26726124 0.53452248 0.80178373]\n",
      "4. Direction cosines of A are: [0.26726124 0.53452248 0.80178373]\n",
      "5. A . B = 32 and B . A = 32\n",
      "0.2257261285527342\n",
      "6. Angle between A and B is 12.933154491899135 degree\n",
      "7. A vector (x,y,z) perpendicular to A is any vector satisfying: 1x+2y+3z=0\n",
      "for example: (3,2,-7/3). This vector dot product with A is: 0.0\n",
      "8. A x B = [-3  6 -3] and B x A = [ 3 -6  3]\n",
      "11. A tranpose B = 32 and A B tranpose = 32\n"
     ]
    }
   ],
   "source": [
    "#Part 1\n",
    "print(\"1. 2A-B = {}\".format(2*A - B))\n",
    "\n",
    "#Part 2\n",
    "print(\"2. ||A|| = {}\".format(np.linalg.norm(A)))\n",
    "\n",
    "x = np.array([1,0,0])\n",
    "cos_theta = (np.dot(A,x))/(np.linalg.norm(A)*np.linalg.norm(x))\n",
    "print(\"Angle between A and positive x-axis: {} degree\".format(math.acos(cos_theta)*(180/math.pi)))\n",
    "\n",
    "#Part 3\n",
    "print(\"3. Unit vector in direction of A: {}\".format(A/np.linalg.norm(A)))\n",
    "\n",
    "#Part 4\n",
    "print(\"4. Direction cosines of A are: {}\".format(A/np.linalg.norm(A)))\n",
    "\n",
    "#Part 5 <?> dot or scalar product?\n",
    "print(\"5. A . B = {} and B . A = {}\".format(np.dot(A,B),np.dot(B,A)))\n",
    "\n",
    "#part 6\n",
    "cos_theta = (np.dot(A,B))/(np.linalg.norm(A)*np.linalg.norm(B))\n",
    "print(math.acos(cos_theta))\n",
    "print(\"6. Angle between A and B is {} degree\".format(math.acos(cos_theta)*(180/math.pi)))\n",
    "\n",
    "#Part 7\n",
    "print(\"7. A vector (x,y,z) perpendicular to A is any vector satisfying: {}x+{}y+{}z=0\".format(A[0],A[1],A[2]))\n",
    "print(\"for example: (3,2,-7/3). This vector dot product with A is: {}\".format(np.dot([3,2,-7/3],A)))\n",
    "\n",
    "#Part 8\n",
    "print(\"8. A x B = {} and B x A = {}\".format(np.cross(A,B),np.cross(B,A)))\n",
    "\n",
    "#Part 10 <?>\n",
    "\n",
    "#Part 11\n",
    "print(\"11. A tranpose B = {} and A B tranpose = {}\".format(np.dot(A.T,B),np.dot(A,B.T)))"
   ]
  },
  {
   "cell_type": "markdown",
   "metadata": {},
   "source": [
    "## B."
   ]
  },
  {
   "cell_type": "code",
   "execution_count": 40,
   "metadata": {
    "collapsed": false
   },
   "outputs": [
    {
     "name": "stdout",
     "output_type": "stream",
     "text": [
      "1. 2A-B = \n",
      "[[ 1  2  5]\n",
      " [ 6 -5 10]\n",
      " [-3 12 -3]]\n",
      "2. AB = \n",
      "[[ 14  -2  -4]\n",
      " [  9   0  15]\n",
      " [  7   7 -21]] \n",
      "and BA = \n",
      "[[  9   3   8]\n",
      " [  6 -18  13]\n",
      " [ -5  15   2]]\n",
      "3. (AB).T = \n",
      "[[ 14   9   7]\n",
      " [ -2   0   7]\n",
      " [ -4  15 -21]] \n",
      "and B.T A.T = \n",
      "[[ 14   9   7]\n",
      " [ -2   0   7]\n",
      " [ -4  15 -21]]\n",
      "4. |A| = 54.999999999999964 and |C| = 0.0\n",
      "6. A^-1 = \n",
      "[[-0.23636364  0.30909091  0.21818182]\n",
      " [ 0.07272727 -0.01818182  0.16363636]\n",
      " [ 0.36363636 -0.09090909 -0.18181818]] \n",
      "and B^-1 = \n",
      "[[ 0.16666667  0.0952381   0.21428571]\n",
      " [ 0.33333333  0.04761905 -0.14285714]\n",
      " [ 0.16666667 -0.19047619  0.07142857]]\n"
     ]
    }
   ],
   "source": [
    "A = np.matrix([[1,2,3],[4,-2,3],[0,5,-1]])\n",
    "B = np.matrix([[1,2,1],[2,1,-4],[3,-2,1]])\n",
    "C = np.matrix([[1,2,3],[4,5,6],[-1,1,3]])\n",
    "#part 1\n",
    "print(\"1. 2A-B = \\n{}\".format(2*A - B))\n",
    "\n",
    "#Part 2\n",
    "print(\"2. AB = \\n{} \\nand BA = \\n{}\".format(A*B,B*A))\n",
    "\n",
    "#Part 3\n",
    "print(\"3. (AB).T = \\n{} \\nand B.T A.T = \\n{}\".format((A*B).T,B.T*A.T))\n",
    "\n",
    "#Part 4\n",
    "print(\"4. |A| = {} and |C| = {}\".format(np.linalg.det(A),np.linalg.det(C)))\n",
    "\n",
    "#Part 6\n",
    "print(\"6. A^-1 = \\n{} \\nand B^-1 = \\n{}\".format(np.linalg.inv(A),np.linalg.inv(B)))"
   ]
  },
  {
   "cell_type": "markdown",
   "metadata": {},
   "source": [
    "## C."
   ]
  },
  {
   "cell_type": "code",
   "execution_count": 41,
   "metadata": {
    "collapsed": false
   },
   "outputs": [
    {
     "name": "stdout",
     "output_type": "stream",
     "text": [
      "1. eigenvalues = [-1.  4.] and (normalized) eigenvectors = \n",
      "[[-0.70710678 -0.5547002 ]\n",
      " [ 0.70710678 -0.83205029]]\n",
      "3. Dot product between eigenvectors of A = -0.19611613513818388\n",
      "4. Dot product between eigenvectors of B = 0.0\n"
     ]
    }
   ],
   "source": [
    "A = np.array([[1,2],[3,2]])\n",
    "B = np.array([[2,-2],[-2,5]])\n",
    "\n",
    "#part 1\n",
    "w,v = np.linalg.eig(A)\n",
    "print(\"1. eigenvalues = {} and (normalized) eigenvectors = \\n{}\".format(w,v))\n",
    "\n",
    "#part 3\n",
    "wA, vA = np.linalg.eig(A)\n",
    "print(\"3. Dot product between eigenvectors of A = {}\".format(np.dot(vA[:,0],vA[:,1])))\n",
    "\n",
    "#Part 4\n",
    "wB, vB = np.linalg.eig(B)\n",
    "print(\"4. Dot product between eigenvectors of B = {}\".format(np.dot(vB[:,0],vB[:,1])))\n",
    "\n",
    "#Part 5\n"
   ]
  },
  {
   "cell_type": "code",
   "execution_count": null,
   "metadata": {
    "collapsed": true
   },
   "outputs": [],
   "source": []
  }
 ],
 "metadata": {
  "anaconda-cloud": {},
  "kernelspec": {
   "display_name": "Python [default]",
   "language": "python",
   "name": "python3"
  },
  "language_info": {
   "codemirror_mode": {
    "name": "ipython",
    "version": 3
   },
   "file_extension": ".py",
   "mimetype": "text/x-python",
   "name": "python",
   "nbconvert_exporter": "python",
   "pygments_lexer": "ipython3",
   "version": "3.5.2"
  }
 },
 "nbformat": 4,
 "nbformat_minor": 1
}
